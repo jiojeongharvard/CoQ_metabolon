{
 "cells": [
  {
   "cell_type": "code",
   "execution_count": null,
   "metadata": {},
   "outputs": [
    {
     "name": "stdout",
     "output_type": "stream",
     "text": [
      "Utils module is being imported!\n"
     ]
    }
   ],
   "source": [
    "import os\n",
    "os.chdir('/n/netscratch/shakhnovich_lab/Lab/jiojeong/scripts')\n",
    "\n",
    "import re\n",
    "from utils import filter_incomplete_clusters_and_save_to_file, filter_incomplete_clusters_and_save_to_file_exclude_COQ9\n",
    "\n",
    "def increment_integers_in_file(input_folder_path):\n",
    "    cluster_results_redo_folder_path = os.path.join(input_folder_path, 'cluster_results_skip_first_frame')\n",
    "    \n",
    "    cluster_list_path = os.path.join(cluster_results_redo_folder_path, 'clusterList.dat')\n",
    "    cluster_list_corrected_path = os.path.join(cluster_results_redo_folder_path, 'clusterList_corrected.dat')\n",
    "\n",
    "    cluster_max_list_path = os.path.join(cluster_results_redo_folder_path, 'clusterMaxList.dat')\n",
    "    cluster_max_list_corrected_path = os.path.join(cluster_results_redo_folder_path, 'clusterMaxList_corrected.dat')\n",
    "\n",
    "\n",
    "    # # Check if the corrected files already exist\n",
    "    # if os.path.exists(cluster_list_corrected_path) and os.path.exists(cluster_max_list_corrected_path):\n",
    "    #     print(f\"Corrected files already exist in {input_folder_path}.\")\n",
    "    #     return\n",
    "    \n",
    "    \n",
    "    # Read the input file\n",
    "    with open(cluster_list_path, 'r') as infile:\n",
    "        lines = infile.readlines()\n",
    "    \n",
    "    # Process each line, incrementing integers by 1\n",
    "    corrected_lines = []\n",
    "    for line in lines:\n",
    "        corrected_line = re.sub(r'(\\{?)(\\d+)(\\}?)', lambda match: f\"{match.group(1)}{int(match.group(2)) + 1}{match.group(3)}\", line)\n",
    "        corrected_lines.append(corrected_line)\n",
    "    \n",
    "    # Write the corrected lines to the output file\n",
    "    with open(cluster_list_corrected_path, 'w') as outfile:\n",
    "        outfile.write(''.join(corrected_lines))\n",
    "    \n",
    "    print(f\"Corrected file written to: {cluster_list_corrected_path}\")\n",
    "    \n",
    "    \n",
    "    \n",
    "   \n",
    "    \n",
    "    # Read the input file\n",
    "    with open(cluster_max_list_path, 'r') as infile:\n",
    "        lines = infile.readlines()\n",
    "    \n",
    "    # Process each line, incrementing integers by 1\n",
    "    corrected_lines = []\n",
    "    for line in lines:\n",
    "        corrected_line = re.sub(r'(\\{?)(\\d+)(\\}?)', lambda match: f\"{match.group(1)}{int(match.group(2)) + 1}{match.group(3)}\", line)\n",
    "        corrected_lines.append(corrected_line)\n",
    "    \n",
    "    # Write the corrected lines to the output file\n",
    "    with open(cluster_max_list_corrected_path, 'w') as outfile:\n",
    "        outfile.write(''.join(corrected_lines))\n",
    "    \n",
    "    print(f\"Corrected file written to: {cluster_max_list_corrected_path}\")\n",
    "\n",
    "def get_folder_names(parent_folder_path):\n",
    "    # Get the list of all entries in the specified folder\n",
    "    entries = os.listdir(parent_folder_path)\n",
    "    \n",
    "    # Filter out the entries that are directories\n",
    "    folder_names = [os.path.join(parent_folder_path, entry) for entry in entries if os.path.isdir(os.path.join(parent_folder_path, entry))]\n",
    "    \n",
    "    return folder_names"
   ]
  },
  {
   "cell_type": "code",
   "execution_count": 3,
   "metadata": {},
   "outputs": [],
   "source": [
    "subfolder_paths = get_folder_names(\"/n/netscratch/shakhnovich_lab/Lab/jiojeong/simulations/20250127_CoQ_ablation_15us_production_5kcat\")\n",
    "enz_arr = [1,2,3,4,5]"
   ]
  },
  {
   "cell_type": "code",
   "execution_count": 4,
   "metadata": {},
   "outputs": [
    {
     "name": "stdout",
     "output_type": "stream",
     "text": [
      "Corrected file written to: /n/netscratch/shakhnovich_lab/Lab/jiojeong/simulations/20250127_CoQ_ablation_15us_production_5kcat/ablate_1-2_1/cluster_results_skip_first_frame/clusterList_corrected.dat\n",
      "Corrected file written to: /n/netscratch/shakhnovich_lab/Lab/jiojeong/simulations/20250127_CoQ_ablation_15us_production_5kcat/ablate_1-2_1/cluster_results_skip_first_frame/clusterMaxList_corrected.dat\n",
      "Corrected file written to: /n/netscratch/shakhnovich_lab/Lab/jiojeong/simulations/20250127_CoQ_ablation_15us_production_5kcat/ablate_1-2_2/cluster_results_skip_first_frame/clusterList_corrected.dat\n",
      "Corrected file written to: /n/netscratch/shakhnovich_lab/Lab/jiojeong/simulations/20250127_CoQ_ablation_15us_production_5kcat/ablate_1-2_2/cluster_results_skip_first_frame/clusterMaxList_corrected.dat\n",
      "Corrected file written to: /n/netscratch/shakhnovich_lab/Lab/jiojeong/simulations/20250127_CoQ_ablation_15us_production_5kcat/ablate_1-2_3/cluster_results_skip_first_frame/clusterList_corrected.dat\n",
      "Corrected file written to: /n/netscratch/shakhnovich_lab/Lab/jiojeong/simulations/20250127_CoQ_ablation_15us_production_5kcat/ablate_1-2_3/cluster_results_skip_first_frame/clusterMaxList_corrected.dat\n",
      "Corrected file written to: /n/netscratch/shakhnovich_lab/Lab/jiojeong/simulations/20250127_CoQ_ablation_15us_production_5kcat/ablate_5-20_1/cluster_results_skip_first_frame/clusterList_corrected.dat\n",
      "Corrected file written to: /n/netscratch/shakhnovich_lab/Lab/jiojeong/simulations/20250127_CoQ_ablation_15us_production_5kcat/ablate_5-20_1/cluster_results_skip_first_frame/clusterMaxList_corrected.dat\n",
      "Corrected file written to: /n/netscratch/shakhnovich_lab/Lab/jiojeong/simulations/20250127_CoQ_ablation_15us_production_5kcat/ablate_5-20_2/cluster_results_skip_first_frame/clusterList_corrected.dat\n",
      "Corrected file written to: /n/netscratch/shakhnovich_lab/Lab/jiojeong/simulations/20250127_CoQ_ablation_15us_production_5kcat/ablate_5-20_2/cluster_results_skip_first_frame/clusterMaxList_corrected.dat\n",
      "Corrected file written to: /n/netscratch/shakhnovich_lab/Lab/jiojeong/simulations/20250127_CoQ_ablation_15us_production_5kcat/ablate_5-20_3/cluster_results_skip_first_frame/clusterList_corrected.dat\n",
      "Corrected file written to: /n/netscratch/shakhnovich_lab/Lab/jiojeong/simulations/20250127_CoQ_ablation_15us_production_5kcat/ablate_5-20_3/cluster_results_skip_first_frame/clusterMaxList_corrected.dat\n",
      "Filtered for only complete cluster (0-indexing restored) file saved for path: /n/netscratch/shakhnovich_lab/Lab/jiojeong/simulations/20250127_CoQ_ablation_15us_production_5kcat/ablate_1-2_1/cluster_results_skip_first_frame/clusterList_only_complete_clusters.dat\n",
      "Number of complete clusters by frame saved for path: /n/netscratch/shakhnovich_lab/Lab/jiojeong/simulations/20250127_CoQ_ablation_15us_production_5kcat/ablate_1-2_1/cluster_results_skip_first_frame/clusterList_only_complete_clusters_number.dat\n",
      "Sizes of complete clusters by frame saved for path: /n/netscratch/shakhnovich_lab/Lab/jiojeong/simulations/20250127_CoQ_ablation_15us_production_5kcat/ablate_1-2_1/cluster_results_skip_first_frame/clusterList_only_complete_clusters_sizes.dat\n",
      "Filtered for only complete cluster (0-indexing restored) file saved for path: /n/netscratch/shakhnovich_lab/Lab/jiojeong/simulations/20250127_CoQ_ablation_15us_production_5kcat/ablate_1-2_2/cluster_results_skip_first_frame/clusterList_only_complete_clusters.dat\n",
      "Number of complete clusters by frame saved for path: /n/netscratch/shakhnovich_lab/Lab/jiojeong/simulations/20250127_CoQ_ablation_15us_production_5kcat/ablate_1-2_2/cluster_results_skip_first_frame/clusterList_only_complete_clusters_number.dat\n",
      "Sizes of complete clusters by frame saved for path: /n/netscratch/shakhnovich_lab/Lab/jiojeong/simulations/20250127_CoQ_ablation_15us_production_5kcat/ablate_1-2_2/cluster_results_skip_first_frame/clusterList_only_complete_clusters_sizes.dat\n",
      "Filtered for only complete cluster (0-indexing restored) file saved for path: /n/netscratch/shakhnovich_lab/Lab/jiojeong/simulations/20250127_CoQ_ablation_15us_production_5kcat/ablate_1-2_3/cluster_results_skip_first_frame/clusterList_only_complete_clusters.dat\n",
      "Number of complete clusters by frame saved for path: /n/netscratch/shakhnovich_lab/Lab/jiojeong/simulations/20250127_CoQ_ablation_15us_production_5kcat/ablate_1-2_3/cluster_results_skip_first_frame/clusterList_only_complete_clusters_number.dat\n",
      "Sizes of complete clusters by frame saved for path: /n/netscratch/shakhnovich_lab/Lab/jiojeong/simulations/20250127_CoQ_ablation_15us_production_5kcat/ablate_1-2_3/cluster_results_skip_first_frame/clusterList_only_complete_clusters_sizes.dat\n",
      "Filtered for only complete cluster (0-indexing restored) file saved for path: /n/netscratch/shakhnovich_lab/Lab/jiojeong/simulations/20250127_CoQ_ablation_15us_production_5kcat/ablate_5-20_1/cluster_results_skip_first_frame/clusterList_only_complete_clusters.dat\n",
      "Number of complete clusters by frame saved for path: /n/netscratch/shakhnovich_lab/Lab/jiojeong/simulations/20250127_CoQ_ablation_15us_production_5kcat/ablate_5-20_1/cluster_results_skip_first_frame/clusterList_only_complete_clusters_number.dat\n",
      "Sizes of complete clusters by frame saved for path: /n/netscratch/shakhnovich_lab/Lab/jiojeong/simulations/20250127_CoQ_ablation_15us_production_5kcat/ablate_5-20_1/cluster_results_skip_first_frame/clusterList_only_complete_clusters_sizes.dat\n",
      "Filtered for only complete cluster (0-indexing restored) file saved for path: /n/netscratch/shakhnovich_lab/Lab/jiojeong/simulations/20250127_CoQ_ablation_15us_production_5kcat/ablate_5-20_2/cluster_results_skip_first_frame/clusterList_only_complete_clusters.dat\n",
      "Number of complete clusters by frame saved for path: /n/netscratch/shakhnovich_lab/Lab/jiojeong/simulations/20250127_CoQ_ablation_15us_production_5kcat/ablate_5-20_2/cluster_results_skip_first_frame/clusterList_only_complete_clusters_number.dat\n",
      "Sizes of complete clusters by frame saved for path: /n/netscratch/shakhnovich_lab/Lab/jiojeong/simulations/20250127_CoQ_ablation_15us_production_5kcat/ablate_5-20_2/cluster_results_skip_first_frame/clusterList_only_complete_clusters_sizes.dat\n",
      "Filtered for only complete cluster (0-indexing restored) file saved for path: /n/netscratch/shakhnovich_lab/Lab/jiojeong/simulations/20250127_CoQ_ablation_15us_production_5kcat/ablate_5-20_3/cluster_results_skip_first_frame/clusterList_only_complete_clusters.dat\n",
      "Number of complete clusters by frame saved for path: /n/netscratch/shakhnovich_lab/Lab/jiojeong/simulations/20250127_CoQ_ablation_15us_production_5kcat/ablate_5-20_3/cluster_results_skip_first_frame/clusterList_only_complete_clusters_number.dat\n",
      "Sizes of complete clusters by frame saved for path: /n/netscratch/shakhnovich_lab/Lab/jiojeong/simulations/20250127_CoQ_ablation_15us_production_5kcat/ablate_5-20_3/cluster_results_skip_first_frame/clusterList_only_complete_clusters_sizes.dat\n",
      "Filtered for only complete cluster (1-indexing) file saved for path: /n/netscratch/shakhnovich_lab/Lab/jiojeong/simulations/20250127_CoQ_ablation_15us_production_5kcat/ablate_1-2_1/cluster_results_skip_first_frame/clusterList_only_complete_clusters_excluding_COQ9.dat\n",
      "Number of complete clusters by frame saved for path: /n/netscratch/shakhnovich_lab/Lab/jiojeong/simulations/20250127_CoQ_ablation_15us_production_5kcat/ablate_1-2_1/cluster_results_skip_first_frame/clusterList_only_complete_clusters_number_excluding_COQ9.dat\n",
      "Sizes of complete clusters by frame saved for path: /n/netscratch/shakhnovich_lab/Lab/jiojeong/simulations/20250127_CoQ_ablation_15us_production_5kcat/ablate_1-2_1/cluster_results_skip_first_frame/clusterList_only_complete_clusters_sizes_excluding_COQ9.dat\n",
      "Filtered for only complete cluster (1-indexing) file saved for path: /n/netscratch/shakhnovich_lab/Lab/jiojeong/simulations/20250127_CoQ_ablation_15us_production_5kcat/ablate_1-2_2/cluster_results_skip_first_frame/clusterList_only_complete_clusters_excluding_COQ9.dat\n",
      "Number of complete clusters by frame saved for path: /n/netscratch/shakhnovich_lab/Lab/jiojeong/simulations/20250127_CoQ_ablation_15us_production_5kcat/ablate_1-2_2/cluster_results_skip_first_frame/clusterList_only_complete_clusters_number_excluding_COQ9.dat\n",
      "Sizes of complete clusters by frame saved for path: /n/netscratch/shakhnovich_lab/Lab/jiojeong/simulations/20250127_CoQ_ablation_15us_production_5kcat/ablate_1-2_2/cluster_results_skip_first_frame/clusterList_only_complete_clusters_sizes_excluding_COQ9.dat\n",
      "Filtered for only complete cluster (1-indexing) file saved for path: /n/netscratch/shakhnovich_lab/Lab/jiojeong/simulations/20250127_CoQ_ablation_15us_production_5kcat/ablate_1-2_3/cluster_results_skip_first_frame/clusterList_only_complete_clusters_excluding_COQ9.dat\n",
      "Number of complete clusters by frame saved for path: /n/netscratch/shakhnovich_lab/Lab/jiojeong/simulations/20250127_CoQ_ablation_15us_production_5kcat/ablate_1-2_3/cluster_results_skip_first_frame/clusterList_only_complete_clusters_number_excluding_COQ9.dat\n",
      "Sizes of complete clusters by frame saved for path: /n/netscratch/shakhnovich_lab/Lab/jiojeong/simulations/20250127_CoQ_ablation_15us_production_5kcat/ablate_1-2_3/cluster_results_skip_first_frame/clusterList_only_complete_clusters_sizes_excluding_COQ9.dat\n",
      "Filtered for only complete cluster (1-indexing) file saved for path: /n/netscratch/shakhnovich_lab/Lab/jiojeong/simulations/20250127_CoQ_ablation_15us_production_5kcat/ablate_5-20_1/cluster_results_skip_first_frame/clusterList_only_complete_clusters_excluding_COQ9.dat\n",
      "Number of complete clusters by frame saved for path: /n/netscratch/shakhnovich_lab/Lab/jiojeong/simulations/20250127_CoQ_ablation_15us_production_5kcat/ablate_5-20_1/cluster_results_skip_first_frame/clusterList_only_complete_clusters_number_excluding_COQ9.dat\n",
      "Sizes of complete clusters by frame saved for path: /n/netscratch/shakhnovich_lab/Lab/jiojeong/simulations/20250127_CoQ_ablation_15us_production_5kcat/ablate_5-20_1/cluster_results_skip_first_frame/clusterList_only_complete_clusters_sizes_excluding_COQ9.dat\n",
      "Filtered for only complete cluster (1-indexing) file saved for path: /n/netscratch/shakhnovich_lab/Lab/jiojeong/simulations/20250127_CoQ_ablation_15us_production_5kcat/ablate_5-20_2/cluster_results_skip_first_frame/clusterList_only_complete_clusters_excluding_COQ9.dat\n",
      "Number of complete clusters by frame saved for path: /n/netscratch/shakhnovich_lab/Lab/jiojeong/simulations/20250127_CoQ_ablation_15us_production_5kcat/ablate_5-20_2/cluster_results_skip_first_frame/clusterList_only_complete_clusters_number_excluding_COQ9.dat\n",
      "Sizes of complete clusters by frame saved for path: /n/netscratch/shakhnovich_lab/Lab/jiojeong/simulations/20250127_CoQ_ablation_15us_production_5kcat/ablate_5-20_2/cluster_results_skip_first_frame/clusterList_only_complete_clusters_sizes_excluding_COQ9.dat\n",
      "Filtered for only complete cluster (1-indexing) file saved for path: /n/netscratch/shakhnovich_lab/Lab/jiojeong/simulations/20250127_CoQ_ablation_15us_production_5kcat/ablate_5-20_3/cluster_results_skip_first_frame/clusterList_only_complete_clusters_excluding_COQ9.dat\n",
      "Number of complete clusters by frame saved for path: /n/netscratch/shakhnovich_lab/Lab/jiojeong/simulations/20250127_CoQ_ablation_15us_production_5kcat/ablate_5-20_3/cluster_results_skip_first_frame/clusterList_only_complete_clusters_number_excluding_COQ9.dat\n",
      "Sizes of complete clusters by frame saved for path: /n/netscratch/shakhnovich_lab/Lab/jiojeong/simulations/20250127_CoQ_ablation_15us_production_5kcat/ablate_5-20_3/cluster_results_skip_first_frame/clusterList_only_complete_clusters_sizes_excluding_COQ9.dat\n"
     ]
    }
   ],
   "source": [
    "#when there are 2 layers ex) 20250122_whatever, randomized_1\n",
    "for simulation in subfolder_paths:\n",
    "    increment_integers_in_file(simulation)\n",
    "filter_incomplete_clusters_and_save_to_file(subfolder_paths, enz_arr)\n",
    "filter_incomplete_clusters_and_save_to_file_exclude_COQ9(subfolder_paths)"
   ]
  },
  {
   "cell_type": "code",
   "execution_count": 5,
   "metadata": {},
   "outputs": [
    {
     "ename": "FileNotFoundError",
     "evalue": "[Errno 2] No such file or directory: '/n/netscratch/shakhnovich_lab/Lab/jiojeong/simulations/20250127_CoQ_ablation_15us_production_5kcat/ablate_1-2_1/cluster_results_skip_first_frame/cluster_results_skip_first_frame/clusterList.dat'",
     "output_type": "error",
     "traceback": [
      "\u001b[0;31m---------------------------------------------------------------------------\u001b[0m",
      "\u001b[0;31mFileNotFoundError\u001b[0m                         Traceback (most recent call last)",
      "Cell \u001b[0;32mIn[5], line 5\u001b[0m\n\u001b[1;32m      3\u001b[0m simulations \u001b[38;5;241m=\u001b[39m get_folder_names(subfolder)\n\u001b[1;32m      4\u001b[0m \u001b[38;5;28;01mfor\u001b[39;00m simulation \u001b[38;5;129;01min\u001b[39;00m simulations:\n\u001b[0;32m----> 5\u001b[0m     \u001b[43mincrement_integers_in_file\u001b[49m\u001b[43m(\u001b[49m\u001b[43msimulation\u001b[49m\u001b[43m)\u001b[49m\n\u001b[1;32m      6\u001b[0m filter_incomplete_clusters_and_save_to_file(simulations, enz_arr)\n\u001b[1;32m      7\u001b[0m filter_incomplete_clusters_and_save_to_file_exclude_COQ9(simulations)\n",
      "Cell \u001b[0;32mIn[1], line 24\u001b[0m, in \u001b[0;36mincrement_integers_in_file\u001b[0;34m(input_folder_path)\u001b[0m\n\u001b[1;32m     14\u001b[0m cluster_max_list_corrected_path \u001b[38;5;241m=\u001b[39m os\u001b[38;5;241m.\u001b[39mpath\u001b[38;5;241m.\u001b[39mjoin(cluster_results_redo_folder_path, \u001b[38;5;124m'\u001b[39m\u001b[38;5;124mclusterMaxList_corrected.dat\u001b[39m\u001b[38;5;124m'\u001b[39m)\n\u001b[1;32m     17\u001b[0m \u001b[38;5;66;03m# # Check if the corrected files already exist\u001b[39;00m\n\u001b[1;32m     18\u001b[0m \u001b[38;5;66;03m# if os.path.exists(cluster_list_corrected_path) and os.path.exists(cluster_max_list_corrected_path):\u001b[39;00m\n\u001b[1;32m     19\u001b[0m \u001b[38;5;66;03m#     print(f\"Corrected files already exist in {input_folder_path}.\")\u001b[39;00m\n\u001b[0;32m   (...)\u001b[0m\n\u001b[1;32m     22\u001b[0m \n\u001b[1;32m     23\u001b[0m \u001b[38;5;66;03m# Read the input file\u001b[39;00m\n\u001b[0;32m---> 24\u001b[0m \u001b[38;5;28;01mwith\u001b[39;00m \u001b[38;5;28;43mopen\u001b[39;49m\u001b[43m(\u001b[49m\u001b[43mcluster_list_path\u001b[49m\u001b[43m,\u001b[49m\u001b[43m \u001b[49m\u001b[38;5;124;43m'\u001b[39;49m\u001b[38;5;124;43mr\u001b[39;49m\u001b[38;5;124;43m'\u001b[39;49m\u001b[43m)\u001b[49m \u001b[38;5;28;01mas\u001b[39;00m infile:\n\u001b[1;32m     25\u001b[0m     lines \u001b[38;5;241m=\u001b[39m infile\u001b[38;5;241m.\u001b[39mreadlines()\n\u001b[1;32m     27\u001b[0m \u001b[38;5;66;03m# Process each line, incrementing integers by 1\u001b[39;00m\n",
      "File \u001b[0;32m/n/netscratch/shakhnovich_lab/Lab/jiojeong/miniforge3/envs/metabolon/lib/python3.13/site-packages/IPython/core/interactiveshell.py:324\u001b[0m, in \u001b[0;36m_modified_open\u001b[0;34m(file, *args, **kwargs)\u001b[0m\n\u001b[1;32m    317\u001b[0m \u001b[38;5;28;01mif\u001b[39;00m file \u001b[38;5;129;01min\u001b[39;00m {\u001b[38;5;241m0\u001b[39m, \u001b[38;5;241m1\u001b[39m, \u001b[38;5;241m2\u001b[39m}:\n\u001b[1;32m    318\u001b[0m     \u001b[38;5;28;01mraise\u001b[39;00m \u001b[38;5;167;01mValueError\u001b[39;00m(\n\u001b[1;32m    319\u001b[0m         \u001b[38;5;124mf\u001b[39m\u001b[38;5;124m\"\u001b[39m\u001b[38;5;124mIPython won\u001b[39m\u001b[38;5;124m'\u001b[39m\u001b[38;5;124mt let you open fd=\u001b[39m\u001b[38;5;132;01m{\u001b[39;00mfile\u001b[38;5;132;01m}\u001b[39;00m\u001b[38;5;124m by default \u001b[39m\u001b[38;5;124m\"\u001b[39m\n\u001b[1;32m    320\u001b[0m         \u001b[38;5;124m\"\u001b[39m\u001b[38;5;124mas it is likely to crash IPython. If you know what you are doing, \u001b[39m\u001b[38;5;124m\"\u001b[39m\n\u001b[1;32m    321\u001b[0m         \u001b[38;5;124m\"\u001b[39m\u001b[38;5;124myou can use builtins\u001b[39m\u001b[38;5;124m'\u001b[39m\u001b[38;5;124m open.\u001b[39m\u001b[38;5;124m\"\u001b[39m\n\u001b[1;32m    322\u001b[0m     )\n\u001b[0;32m--> 324\u001b[0m \u001b[38;5;28;01mreturn\u001b[39;00m \u001b[43mio_open\u001b[49m\u001b[43m(\u001b[49m\u001b[43mfile\u001b[49m\u001b[43m,\u001b[49m\u001b[43m \u001b[49m\u001b[38;5;241;43m*\u001b[39;49m\u001b[43margs\u001b[49m\u001b[43m,\u001b[49m\u001b[43m \u001b[49m\u001b[38;5;241;43m*\u001b[39;49m\u001b[38;5;241;43m*\u001b[39;49m\u001b[43mkwargs\u001b[49m\u001b[43m)\u001b[49m\n",
      "\u001b[0;31mFileNotFoundError\u001b[0m: [Errno 2] No such file or directory: '/n/netscratch/shakhnovich_lab/Lab/jiojeong/simulations/20250127_CoQ_ablation_15us_production_5kcat/ablate_1-2_1/cluster_results_skip_first_frame/cluster_results_skip_first_frame/clusterList.dat'"
     ]
    }
   ],
   "source": [
    "#when there are 3 layers ex) 20250122_whatever, 0.5kcat, randomized_1\n",
    "for subfolder in subfolder_paths:\n",
    "    simulations = get_folder_names(subfolder)\n",
    "    for simulation in simulations:\n",
    "        increment_integers_in_file(simulation)\n",
    "    filter_incomplete_clusters_and_save_to_file(simulations, enz_arr)\n",
    "    filter_incomplete_clusters_and_save_to_file_exclude_COQ9(simulations)"
   ]
  },
  {
   "cell_type": "code",
   "execution_count": 7,
   "metadata": {},
   "outputs": [
    {
     "name": "stdout",
     "output_type": "stream",
     "text": [
      "Corrected file written to: /n/netscratch/shakhnovich_lab/Lab/jiojeong/simulations/to_analyze/20241101_metabolon_CoQ9_HSHS1KT_self_interaction_1KT_test_out_new_dump/cluster_results_skip_first_frame/clusterList_corrected.dat\n",
      "Corrected file written to: /n/netscratch/shakhnovich_lab/Lab/jiojeong/simulations/to_analyze/20241101_metabolon_CoQ9_HSHS1KT_self_interaction_1KT_test_out_new_dump/cluster_results_skip_first_frame/clusterMaxList_corrected.dat\n"
     ]
    }
   ],
   "source": [
    "#single simulation\n",
    "increment_integers_in_file(\"/n/netscratch/shakhnovich_lab/Lab/jiojeong/simulations/to_analyze/20241101_metabolon_CoQ9_HSHS1KT_self_interaction_1KT_test_out_new_dump\")"
   ]
  }
 ],
 "metadata": {
  "kernelspec": {
   "display_name": "metabolon",
   "language": "python",
   "name": "python3"
  },
  "language_info": {
   "codemirror_mode": {
    "name": "ipython",
    "version": 3
   },
   "file_extension": ".py",
   "mimetype": "text/x-python",
   "name": "python",
   "nbconvert_exporter": "python",
   "pygments_lexer": "ipython3",
   "version": "undefined.undefined.undefined"
  }
 },
 "nbformat": 4,
 "nbformat_minor": 2
}
